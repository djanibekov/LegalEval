{
 "cells": [
  {
   "cell_type": "code",
   "execution_count": 1,
   "metadata": {
    "collapsed": true
   },
   "outputs": [],
   "source": [
    "import pandas as pd\n",
    "import json\n",
    "import re"
   ]
  },
  {
   "cell_type": "code",
   "execution_count": 2,
   "outputs": [
    {
     "data": {
      "text/plain": "      article_number                                               text  \\\n0                  0   F. NARIMAN, J. Leave granted. In 2008, the Pu...   \n1                  1   S. THAKUR, J. Leave granted. These appeals ar...   \n2                  2   Markandey Katju, J. Leave granted. Heard lear...   \n3                  3   ALTAMAS KABIR,J. Leave granted. The question ...   \n4                  4   CIVIL APPEAL NO. 598 OF 2007 K. MATHUR, J. Th...   \n...              ...                                                ...   \n6071            6071  civil appellate jurisdiction civil appeal numb...   \n6072            6072  criminal appellate jurisdiction special leave\\...   \n6073            6073  civil appellate jurisdiction civil appeal numb...   \n6074            6074  civil appellate jurisdiction civil appeal numb...   \n6075            6075  criminal appellate jurisdiction criminal appea...   \n\n      label  split  \n0         1  train  \n1         0  train  \n2         1  train  \n3         1  train  \n4         1  train  \n...     ...    ...  \n6071      1    dev  \n6072      0    dev  \n6073      0    dev  \n6074      1    dev  \n6075      0    dev  \n\n[6076 rows x 4 columns]",
      "text/html": "<div>\n<style scoped>\n    .dataframe tbody tr th:only-of-type {\n        vertical-align: middle;\n    }\n\n    .dataframe tbody tr th {\n        vertical-align: top;\n    }\n\n    .dataframe thead th {\n        text-align: right;\n    }\n</style>\n<table border=\"1\" class=\"dataframe\">\n  <thead>\n    <tr style=\"text-align: right;\">\n      <th></th>\n      <th>article_number</th>\n      <th>text</th>\n      <th>label</th>\n      <th>split</th>\n    </tr>\n  </thead>\n  <tbody>\n    <tr>\n      <th>0</th>\n      <td>0</td>\n      <td>F. NARIMAN, J. Leave granted. In 2008, the Pu...</td>\n      <td>1</td>\n      <td>train</td>\n    </tr>\n    <tr>\n      <th>1</th>\n      <td>1</td>\n      <td>S. THAKUR, J. Leave granted. These appeals ar...</td>\n      <td>0</td>\n      <td>train</td>\n    </tr>\n    <tr>\n      <th>2</th>\n      <td>2</td>\n      <td>Markandey Katju, J. Leave granted. Heard lear...</td>\n      <td>1</td>\n      <td>train</td>\n    </tr>\n    <tr>\n      <th>3</th>\n      <td>3</td>\n      <td>ALTAMAS KABIR,J. Leave granted. The question ...</td>\n      <td>1</td>\n      <td>train</td>\n    </tr>\n    <tr>\n      <th>4</th>\n      <td>4</td>\n      <td>CIVIL APPEAL NO. 598 OF 2007 K. MATHUR, J. Th...</td>\n      <td>1</td>\n      <td>train</td>\n    </tr>\n    <tr>\n      <th>...</th>\n      <td>...</td>\n      <td>...</td>\n      <td>...</td>\n      <td>...</td>\n    </tr>\n    <tr>\n      <th>6071</th>\n      <td>6071</td>\n      <td>civil appellate jurisdiction civil appeal numb...</td>\n      <td>1</td>\n      <td>dev</td>\n    </tr>\n    <tr>\n      <th>6072</th>\n      <td>6072</td>\n      <td>criminal appellate jurisdiction special leave\\...</td>\n      <td>0</td>\n      <td>dev</td>\n    </tr>\n    <tr>\n      <th>6073</th>\n      <td>6073</td>\n      <td>civil appellate jurisdiction civil appeal numb...</td>\n      <td>0</td>\n      <td>dev</td>\n    </tr>\n    <tr>\n      <th>6074</th>\n      <td>6074</td>\n      <td>civil appellate jurisdiction civil appeal numb...</td>\n      <td>1</td>\n      <td>dev</td>\n    </tr>\n    <tr>\n      <th>6075</th>\n      <td>6075</td>\n      <td>criminal appellate jurisdiction criminal appea...</td>\n      <td>0</td>\n      <td>dev</td>\n    </tr>\n  </tbody>\n</table>\n<p>6076 rows × 4 columns</p>\n</div>"
     },
     "execution_count": 2,
     "metadata": {},
     "output_type": "execute_result"
    }
   ],
   "source": [
    "# single_train_data = pd.read_csv('../data/trainData/ILDC_single_train_dev.csv')\n",
    "data = pd.read_csv('trainData/ILDC_multi_train_dev.csv').reset_index()\n",
    "data = data.rename(columns={\n",
    "    'index': 'article_number',\n",
    "    'text' :'text',\n",
    "    'label': 'label',\n",
    "    'split': 'split'\n",
    "})\n",
    "data"
   ],
   "metadata": {
    "collapsed": false
   }
  },
  {
   "cell_type": "markdown",
   "source": [
    "#### Articles for Indian constitution, Penal Code and Code of Criminal Procedure"
   ],
   "metadata": {
    "collapsed": false
   }
  },
  {
   "cell_type": "code",
   "execution_count": 3,
   "outputs": [
    {
     "data": {
      "text/plain": "                                              Articles\n0    1. Name and territory of the Union\\n(1) India,...\n1    1. The territories of the States; the Union te...\n2    2. Admission or establishment of new States: P...\n3    2A. Sikkim to be associated with the Union Rep...\n4    3. Formation of new States and alteration of a...\n..                                                 ...\n451  378A. Special provision as to duration of Andh...\n452  392. Power of the President to remove difficul...\n453  393. Short title This Constitution may be call...\n454  394. Commencement This article and Articles 5,...\n455  395. Repeals The Indian Independence Act, 1947...\n\n[456 rows x 1 columns]",
      "text/html": "<div>\n<style scoped>\n    .dataframe tbody tr th:only-of-type {\n        vertical-align: middle;\n    }\n\n    .dataframe tbody tr th {\n        vertical-align: top;\n    }\n\n    .dataframe thead th {\n        text-align: right;\n    }\n</style>\n<table border=\"1\" class=\"dataframe\">\n  <thead>\n    <tr style=\"text-align: right;\">\n      <th></th>\n      <th>Articles</th>\n    </tr>\n  </thead>\n  <tbody>\n    <tr>\n      <th>0</th>\n      <td>1. Name and territory of the Union\\n(1) India,...</td>\n    </tr>\n    <tr>\n      <th>1</th>\n      <td>1. The territories of the States; the Union te...</td>\n    </tr>\n    <tr>\n      <th>2</th>\n      <td>2. Admission or establishment of new States: P...</td>\n    </tr>\n    <tr>\n      <th>3</th>\n      <td>2A. Sikkim to be associated with the Union Rep...</td>\n    </tr>\n    <tr>\n      <th>4</th>\n      <td>3. Formation of new States and alteration of a...</td>\n    </tr>\n    <tr>\n      <th>...</th>\n      <td>...</td>\n    </tr>\n    <tr>\n      <th>451</th>\n      <td>378A. Special provision as to duration of Andh...</td>\n    </tr>\n    <tr>\n      <th>452</th>\n      <td>392. Power of the President to remove difficul...</td>\n    </tr>\n    <tr>\n      <th>453</th>\n      <td>393. Short title This Constitution may be call...</td>\n    </tr>\n    <tr>\n      <th>454</th>\n      <td>394. Commencement This article and Articles 5,...</td>\n    </tr>\n    <tr>\n      <th>455</th>\n      <td>395. Repeals The Indian Independence Act, 1947...</td>\n    </tr>\n  </tbody>\n</table>\n<p>456 rows × 1 columns</p>\n</div>"
     },
     "execution_count": 3,
     "metadata": {},
     "output_type": "execute_result"
    }
   ],
   "source": [
    "constitution = pd.read_csv('constitution_of_india.csv')\n",
    "constitution"
   ],
   "metadata": {
    "collapsed": false
   }
  },
  {
   "cell_type": "code",
   "execution_count": 4,
   "outputs": [
    {
     "data": {
      "text/plain": "                                              Articles number\n0    1. Name and territory of the Union\\n(1) India,...      1\n1    1. The territories of the States; the Union te...      1\n2    2. Admission or establishment of new States: P...      2\n3    2A. Sikkim to be associated with the Union Rep...     2A\n4    3. Formation of new States and alteration of a...      3\n..                                                 ...    ...\n451  378A. Special provision as to duration of Andh...   378A\n452  392. Power of the President to remove difficul...    392\n453  393. Short title This Constitution may be call...    393\n454  394. Commencement This article and Articles 5,...    394\n455  395. Repeals The Indian Independence Act, 1947...    395\n\n[456 rows x 2 columns]",
      "text/html": "<div>\n<style scoped>\n    .dataframe tbody tr th:only-of-type {\n        vertical-align: middle;\n    }\n\n    .dataframe tbody tr th {\n        vertical-align: top;\n    }\n\n    .dataframe thead th {\n        text-align: right;\n    }\n</style>\n<table border=\"1\" class=\"dataframe\">\n  <thead>\n    <tr style=\"text-align: right;\">\n      <th></th>\n      <th>Articles</th>\n      <th>number</th>\n    </tr>\n  </thead>\n  <tbody>\n    <tr>\n      <th>0</th>\n      <td>1. Name and territory of the Union\\n(1) India,...</td>\n      <td>1</td>\n    </tr>\n    <tr>\n      <th>1</th>\n      <td>1. The territories of the States; the Union te...</td>\n      <td>1</td>\n    </tr>\n    <tr>\n      <th>2</th>\n      <td>2. Admission or establishment of new States: P...</td>\n      <td>2</td>\n    </tr>\n    <tr>\n      <th>3</th>\n      <td>2A. Sikkim to be associated with the Union Rep...</td>\n      <td>2A</td>\n    </tr>\n    <tr>\n      <th>4</th>\n      <td>3. Formation of new States and alteration of a...</td>\n      <td>3</td>\n    </tr>\n    <tr>\n      <th>...</th>\n      <td>...</td>\n      <td>...</td>\n    </tr>\n    <tr>\n      <th>451</th>\n      <td>378A. Special provision as to duration of Andh...</td>\n      <td>378A</td>\n    </tr>\n    <tr>\n      <th>452</th>\n      <td>392. Power of the President to remove difficul...</td>\n      <td>392</td>\n    </tr>\n    <tr>\n      <th>453</th>\n      <td>393. Short title This Constitution may be call...</td>\n      <td>393</td>\n    </tr>\n    <tr>\n      <th>454</th>\n      <td>394. Commencement This article and Articles 5,...</td>\n      <td>394</td>\n    </tr>\n    <tr>\n      <th>455</th>\n      <td>395. Repeals The Indian Independence Act, 1947...</td>\n      <td>395</td>\n    </tr>\n  </tbody>\n</table>\n<p>456 rows × 2 columns</p>\n</div>"
     },
     "execution_count": 4,
     "metadata": {},
     "output_type": "execute_result"
    }
   ],
   "source": [
    "number = []\n",
    "for article in constitution['Articles']:\n",
    "    number.append(article.split('.')[0])\n",
    "constitution['number'] = number\n",
    "constitution"
   ],
   "metadata": {
    "collapsed": false
   }
  },
  {
   "cell_type": "code",
   "execution_count": 5,
   "outputs": [
    {
     "data": {
      "text/plain": "                                                 Articles number  \\\nnumber                                                             \n1       1. Name and territory of the Union\\n(1) India,...      1   \n10      10. Continuance of the rights of citizenship E...     10   \n100     100. Voting in Houses, power of Houses to act ...    100   \n101     101. Vacation of seats\\n(1) No person shall be...    101   \n102     102. Disqualification s for membership\\n(1) A ...    102   \n...                                                   ...    ...   \n95      95. Power of the Deputy Speaker or other perso...     95   \n96      96. The Speaker or the Deputy Speaker not to p...     96   \n97      97. Salaries and allowances of the Chairman an...     97   \n98      98. Secretariat of Parliament\\n(1) Each House ...     98   \n99      99. Oath or affirmation by members Every membe...     99   \n\n                                           final_Articles  \nnumber                                                     \n1       Name and territory of the Union. India, that i...  \n10      Continuance of the rights of citizenship Every...  \n100     Voting in Houses, power of Houses to act notwi...  \n101     Vacation of seats. No person shall be a member...  \n102     Disqualification s for membership. A person sh...  \n...                                                   ...  \n95      Power of the Deputy Speaker or other person to...  \n96      The Speaker or the Deputy Speaker not to presi...  \n97      Salaries and allowances of the Chairman and De...  \n98      Secretariat of Parliament. Each House of Parli...  \n99      Oath or affirmation by members Every member of...  \n\n[430 rows x 3 columns]",
      "text/html": "<div>\n<style scoped>\n    .dataframe tbody tr th:only-of-type {\n        vertical-align: middle;\n    }\n\n    .dataframe tbody tr th {\n        vertical-align: top;\n    }\n\n    .dataframe thead th {\n        text-align: right;\n    }\n</style>\n<table border=\"1\" class=\"dataframe\">\n  <thead>\n    <tr style=\"text-align: right;\">\n      <th></th>\n      <th>Articles</th>\n      <th>number</th>\n      <th>final_Articles</th>\n    </tr>\n    <tr>\n      <th>number</th>\n      <th></th>\n      <th></th>\n      <th></th>\n    </tr>\n  </thead>\n  <tbody>\n    <tr>\n      <th>1</th>\n      <td>1. Name and territory of the Union\\n(1) India,...</td>\n      <td>1</td>\n      <td>Name and territory of the Union. India, that i...</td>\n    </tr>\n    <tr>\n      <th>10</th>\n      <td>10. Continuance of the rights of citizenship E...</td>\n      <td>10</td>\n      <td>Continuance of the rights of citizenship Every...</td>\n    </tr>\n    <tr>\n      <th>100</th>\n      <td>100. Voting in Houses, power of Houses to act ...</td>\n      <td>100</td>\n      <td>Voting in Houses, power of Houses to act notwi...</td>\n    </tr>\n    <tr>\n      <th>101</th>\n      <td>101. Vacation of seats\\n(1) No person shall be...</td>\n      <td>101</td>\n      <td>Vacation of seats. No person shall be a member...</td>\n    </tr>\n    <tr>\n      <th>102</th>\n      <td>102. Disqualification s for membership\\n(1) A ...</td>\n      <td>102</td>\n      <td>Disqualification s for membership. A person sh...</td>\n    </tr>\n    <tr>\n      <th>...</th>\n      <td>...</td>\n      <td>...</td>\n      <td>...</td>\n    </tr>\n    <tr>\n      <th>95</th>\n      <td>95. Power of the Deputy Speaker or other perso...</td>\n      <td>95</td>\n      <td>Power of the Deputy Speaker or other person to...</td>\n    </tr>\n    <tr>\n      <th>96</th>\n      <td>96. The Speaker or the Deputy Speaker not to p...</td>\n      <td>96</td>\n      <td>The Speaker or the Deputy Speaker not to presi...</td>\n    </tr>\n    <tr>\n      <th>97</th>\n      <td>97. Salaries and allowances of the Chairman an...</td>\n      <td>97</td>\n      <td>Salaries and allowances of the Chairman and De...</td>\n    </tr>\n    <tr>\n      <th>98</th>\n      <td>98. Secretariat of Parliament\\n(1) Each House ...</td>\n      <td>98</td>\n      <td>Secretariat of Parliament. Each House of Parli...</td>\n    </tr>\n    <tr>\n      <th>99</th>\n      <td>99. Oath or affirmation by members Every membe...</td>\n      <td>99</td>\n      <td>Oath or affirmation by members Every member of...</td>\n    </tr>\n  </tbody>\n</table>\n<p>430 rows × 3 columns</p>\n</div>"
     },
     "execution_count": 5,
     "metadata": {},
     "output_type": "execute_result"
    }
   ],
   "source": [
    "import re\n",
    "def concat_strings(group):\n",
    "    template = group.iloc[0]\n",
    "    article_list = []\n",
    "    for i, row in group.iterrows():\n",
    "        actual_text = row['Articles'].index('.')\n",
    "        article_text = re.sub(r'\\(\\d*\\)', '', row['Articles'][actual_text+2:]).replace('\\n', '.')\n",
    "        article_list.append(article_text)\n",
    "    template['final_Articles'] = '. '.join(article_list)\n",
    "    return template\n",
    "\n",
    "constitution = constitution.groupby(by=['number']).apply(concat_strings)\n",
    "constitution"
   ],
   "metadata": {
    "collapsed": false
   }
  },
  {
   "cell_type": "code",
   "execution_count": 6,
   "outputs": [
    {
     "data": {
      "text/plain": "    article                                          full_text\n0         1  Short title extent and commencement. This Act ...\n1         2  Definitions. In this Code, unless the context ...\n2         3  Construction of references. In this Code,- In ...\n3         4  Trial of offences under the Indian Penal Code ...\n4         5  Saving. Nothing contained in this Code shall, ...\n..      ...                                                ...\n497     480  Practising pleader not to sit as Magistrate in...\n498     481  Public servant concerned in sale not to purcha...\n499     482  Saving of inherent powers of High Court. Nothi...\n500     483  Duty of High Court to exercise continuous supe...\n501     484  Repeal and savings. The Code of Criminal Proce...\n\n[502 rows x 2 columns]",
      "text/html": "<div>\n<style scoped>\n    .dataframe tbody tr th:only-of-type {\n        vertical-align: middle;\n    }\n\n    .dataframe tbody tr th {\n        vertical-align: top;\n    }\n\n    .dataframe thead th {\n        text-align: right;\n    }\n</style>\n<table border=\"1\" class=\"dataframe\">\n  <thead>\n    <tr style=\"text-align: right;\">\n      <th></th>\n      <th>article</th>\n      <th>full_text</th>\n    </tr>\n  </thead>\n  <tbody>\n    <tr>\n      <th>0</th>\n      <td>1</td>\n      <td>Short title extent and commencement. This Act ...</td>\n    </tr>\n    <tr>\n      <th>1</th>\n      <td>2</td>\n      <td>Definitions. In this Code, unless the context ...</td>\n    </tr>\n    <tr>\n      <th>2</th>\n      <td>3</td>\n      <td>Construction of references. In this Code,- In ...</td>\n    </tr>\n    <tr>\n      <th>3</th>\n      <td>4</td>\n      <td>Trial of offences under the Indian Penal Code ...</td>\n    </tr>\n    <tr>\n      <th>4</th>\n      <td>5</td>\n      <td>Saving. Nothing contained in this Code shall, ...</td>\n    </tr>\n    <tr>\n      <th>...</th>\n      <td>...</td>\n      <td>...</td>\n    </tr>\n    <tr>\n      <th>497</th>\n      <td>480</td>\n      <td>Practising pleader not to sit as Magistrate in...</td>\n    </tr>\n    <tr>\n      <th>498</th>\n      <td>481</td>\n      <td>Public servant concerned in sale not to purcha...</td>\n    </tr>\n    <tr>\n      <th>499</th>\n      <td>482</td>\n      <td>Saving of inherent powers of High Court. Nothi...</td>\n    </tr>\n    <tr>\n      <th>500</th>\n      <td>483</td>\n      <td>Duty of High Court to exercise continuous supe...</td>\n    </tr>\n    <tr>\n      <th>501</th>\n      <td>484</td>\n      <td>Repeal and savings. The Code of Criminal Proce...</td>\n    </tr>\n  </tbody>\n</table>\n<p>502 rows × 2 columns</p>\n</div>"
     },
     "execution_count": 6,
     "metadata": {},
     "output_type": "execute_result"
    }
   ],
   "source": [
    "crpc = pd.read_csv('full_crpc.csv')\n",
    "crpc['article'] = crpc['article'].apply(lambda x: x.replace('.', ''))\n",
    "crpc"
   ],
   "metadata": {
    "collapsed": false
   }
  },
  {
   "cell_type": "code",
   "execution_count": 7,
   "outputs": [
    {
     "data": {
      "text/plain": "    section_number                                       section_text\n0                1  This Act shall be called the Indian Penal Code...\n1                2  Every person shall be liable to punishment und...\n2                3  Any person liable, by any Indian law, to be tr...\n3                4  The provisions of this Code apply also to any ...\n4                5  Nothing in this Act shall affect the provision...\n..             ...                                                ...\n554            507  Whoever commits the offence of criminal intimi...\n555            508  Whoever voluntarily causes or attempts to caus...\n556            509  Whoever, intending to insult the modesty of an...\n557            510  Whoever, in a state of intoxication, appears i...\n558            511  Whoever attempts to commit an offence punishab...\n\n[559 rows x 2 columns]",
      "text/html": "<div>\n<style scoped>\n    .dataframe tbody tr th:only-of-type {\n        vertical-align: middle;\n    }\n\n    .dataframe tbody tr th {\n        vertical-align: top;\n    }\n\n    .dataframe thead th {\n        text-align: right;\n    }\n</style>\n<table border=\"1\" class=\"dataframe\">\n  <thead>\n    <tr style=\"text-align: right;\">\n      <th></th>\n      <th>section_number</th>\n      <th>section_text</th>\n    </tr>\n  </thead>\n  <tbody>\n    <tr>\n      <th>0</th>\n      <td>1</td>\n      <td>This Act shall be called the Indian Penal Code...</td>\n    </tr>\n    <tr>\n      <th>1</th>\n      <td>2</td>\n      <td>Every person shall be liable to punishment und...</td>\n    </tr>\n    <tr>\n      <th>2</th>\n      <td>3</td>\n      <td>Any person liable, by any Indian law, to be tr...</td>\n    </tr>\n    <tr>\n      <th>3</th>\n      <td>4</td>\n      <td>The provisions of this Code apply also to any ...</td>\n    </tr>\n    <tr>\n      <th>4</th>\n      <td>5</td>\n      <td>Nothing in this Act shall affect the provision...</td>\n    </tr>\n    <tr>\n      <th>...</th>\n      <td>...</td>\n      <td>...</td>\n    </tr>\n    <tr>\n      <th>554</th>\n      <td>507</td>\n      <td>Whoever commits the offence of criminal intimi...</td>\n    </tr>\n    <tr>\n      <th>555</th>\n      <td>508</td>\n      <td>Whoever voluntarily causes or attempts to caus...</td>\n    </tr>\n    <tr>\n      <th>556</th>\n      <td>509</td>\n      <td>Whoever, intending to insult the modesty of an...</td>\n    </tr>\n    <tr>\n      <th>557</th>\n      <td>510</td>\n      <td>Whoever, in a state of intoxication, appears i...</td>\n    </tr>\n    <tr>\n      <th>558</th>\n      <td>511</td>\n      <td>Whoever attempts to commit an offence punishab...</td>\n    </tr>\n  </tbody>\n</table>\n<p>559 rows × 2 columns</p>\n</div>"
     },
     "execution_count": 7,
     "metadata": {},
     "output_type": "execute_result"
    }
   ],
   "source": [
    "IPC_file = open('IPC.json')\n",
    "\n",
    "IPC = pd.DataFrame(json.load(IPC_file))\n",
    "IPC"
   ],
   "metadata": {
    "collapsed": false
   }
  },
  {
   "cell_type": "markdown",
   "source": [
    "## Modify Data"
   ],
   "metadata": {
    "collapsed": false
   }
  },
  {
   "cell_type": "code",
   "execution_count": 8,
   "outputs": [],
   "source": [
    "IPC_number = []\n",
    "CrPC_number = []\n",
    "Constitution_number = []\n",
    "for text in data['text']:\n",
    "    lower_text=text.replace('.', '').lower()\n",
    "    if 'crpc' in lower_text or 'code of criminal' in lower_text or 'criminal procedure' in lower_text:\n",
    "        CrPC_number.append(set(re.findall(r'(?<=crpc\\s)[0-9]+|[0-9]+(?=\\scrpc) | '\n",
    "                                           r'(?<=of the code of criminal\\s)[0-9]+|[0-9]+(?=\\sof the code of criminal) | '\n",
    "                                           r'(?<=of the criminal procedure\\s)[0-9]+|[0-9]+(?=\\sof the criminal procedure)',\n",
    "                                           lower_text)))\n",
    "    else:\n",
    "        CrPC_number.append({})\n",
    "    if 'penal code' in lower_text or 'ipc' in lower_text :\n",
    "        IPC_number.append(set(re.findall(r'(?<=ipc\\s)[0-9]+|[0-9]+(?=\\sipc) | '\n",
    "                                          r'(?<=of the penal\\s)[0-9]+|[0-9]+(?=\\sof the penal) | '\n",
    "                                          r'(?<=of the indian penal\\s)[0-9]+|[0-9]+(?=\\sof the indian penal)',\n",
    "                                          lower_text)))\n",
    "    else:\n",
    "        IPC_number.append({})\n",
    "    if  'constitution' in lower_text:\n",
    "        Constitution_number.append(set(re.findall(r'(?<=of the constitution\\s)[0-9]+|[0-9]+(?=\\sof the constitution) | '\n",
    "                                                   r'(?<=of the indian constitution\\s)[0-9]+|[0-9]+(?=\\sof the indian constitution)',\n",
    "                                                   lower_text)))\n",
    "    else:\n",
    "        Constitution_number.append({})"
   ],
   "metadata": {
    "collapsed": false
   }
  },
  {
   "cell_type": "code",
   "execution_count": 9,
   "outputs": [
    {
     "data": {
      "text/plain": "      article_number                                               text  \\\n0                  0   F. NARIMAN, J. Leave granted. In 2008, the Pu...   \n1                  1   S. THAKUR, J. Leave granted. These appeals ar...   \n2                  2   Markandey Katju, J. Leave granted. Heard lear...   \n3                  3   ALTAMAS KABIR,J. Leave granted. The question ...   \n4                  4   CIVIL APPEAL NO. 598 OF 2007 K. MATHUR, J. Th...   \n...              ...                                                ...   \n6071            6071  civil appellate jurisdiction civil appeal numb...   \n6072            6072  criminal appellate jurisdiction special leave\\...   \n6073            6073  civil appellate jurisdiction civil appeal numb...   \n6074            6074  civil appellate jurisdiction civil appeal numb...   \n6075            6075  criminal appellate jurisdiction criminal appea...   \n\n      label  split             Constitution_number                IPC_number  \\\n0         1  train                      {16 , 14 }                        {}   \n1         0  train  {309 , 142 , 368 , 226 , 141 }                        {}   \n2         1  train                              {}                        {}   \n3         1  train                          {226 }  {406 , 302 , 420 , 326 }   \n4         1  train                          {225 }                        {}   \n...     ...    ...                             ...                       ...   \n6071      1    dev                              {}                        {}   \n6072      0    dev                              {}                        {}   \n6073      0    dev                              {}                        {}   \n6074      1    dev                              {}                        {}   \n6075      0    dev                              {}                        {}   \n\n       CrPC_number  \n0               {}  \n1               {}  \n2           {125 }  \n3     {320 , 482 }  \n4               {}  \n...            ...  \n6071            {}  \n6072            {}  \n6073            {}  \n6074            {}  \n6075            {}  \n\n[6076 rows x 7 columns]",
      "text/html": "<div>\n<style scoped>\n    .dataframe tbody tr th:only-of-type {\n        vertical-align: middle;\n    }\n\n    .dataframe tbody tr th {\n        vertical-align: top;\n    }\n\n    .dataframe thead th {\n        text-align: right;\n    }\n</style>\n<table border=\"1\" class=\"dataframe\">\n  <thead>\n    <tr style=\"text-align: right;\">\n      <th></th>\n      <th>article_number</th>\n      <th>text</th>\n      <th>label</th>\n      <th>split</th>\n      <th>Constitution_number</th>\n      <th>IPC_number</th>\n      <th>CrPC_number</th>\n    </tr>\n  </thead>\n  <tbody>\n    <tr>\n      <th>0</th>\n      <td>0</td>\n      <td>F. NARIMAN, J. Leave granted. In 2008, the Pu...</td>\n      <td>1</td>\n      <td>train</td>\n      <td>{16 , 14 }</td>\n      <td>{}</td>\n      <td>{}</td>\n    </tr>\n    <tr>\n      <th>1</th>\n      <td>1</td>\n      <td>S. THAKUR, J. Leave granted. These appeals ar...</td>\n      <td>0</td>\n      <td>train</td>\n      <td>{309 , 142 , 368 , 226 , 141 }</td>\n      <td>{}</td>\n      <td>{}</td>\n    </tr>\n    <tr>\n      <th>2</th>\n      <td>2</td>\n      <td>Markandey Katju, J. Leave granted. Heard lear...</td>\n      <td>1</td>\n      <td>train</td>\n      <td>{}</td>\n      <td>{}</td>\n      <td>{125 }</td>\n    </tr>\n    <tr>\n      <th>3</th>\n      <td>3</td>\n      <td>ALTAMAS KABIR,J. Leave granted. The question ...</td>\n      <td>1</td>\n      <td>train</td>\n      <td>{226 }</td>\n      <td>{406 , 302 , 420 , 326 }</td>\n      <td>{320 , 482 }</td>\n    </tr>\n    <tr>\n      <th>4</th>\n      <td>4</td>\n      <td>CIVIL APPEAL NO. 598 OF 2007 K. MATHUR, J. Th...</td>\n      <td>1</td>\n      <td>train</td>\n      <td>{225 }</td>\n      <td>{}</td>\n      <td>{}</td>\n    </tr>\n    <tr>\n      <th>...</th>\n      <td>...</td>\n      <td>...</td>\n      <td>...</td>\n      <td>...</td>\n      <td>...</td>\n      <td>...</td>\n      <td>...</td>\n    </tr>\n    <tr>\n      <th>6071</th>\n      <td>6071</td>\n      <td>civil appellate jurisdiction civil appeal numb...</td>\n      <td>1</td>\n      <td>dev</td>\n      <td>{}</td>\n      <td>{}</td>\n      <td>{}</td>\n    </tr>\n    <tr>\n      <th>6072</th>\n      <td>6072</td>\n      <td>criminal appellate jurisdiction special leave\\...</td>\n      <td>0</td>\n      <td>dev</td>\n      <td>{}</td>\n      <td>{}</td>\n      <td>{}</td>\n    </tr>\n    <tr>\n      <th>6073</th>\n      <td>6073</td>\n      <td>civil appellate jurisdiction civil appeal numb...</td>\n      <td>0</td>\n      <td>dev</td>\n      <td>{}</td>\n      <td>{}</td>\n      <td>{}</td>\n    </tr>\n    <tr>\n      <th>6074</th>\n      <td>6074</td>\n      <td>civil appellate jurisdiction civil appeal numb...</td>\n      <td>1</td>\n      <td>dev</td>\n      <td>{}</td>\n      <td>{}</td>\n      <td>{}</td>\n    </tr>\n    <tr>\n      <th>6075</th>\n      <td>6075</td>\n      <td>criminal appellate jurisdiction criminal appea...</td>\n      <td>0</td>\n      <td>dev</td>\n      <td>{}</td>\n      <td>{}</td>\n      <td>{}</td>\n    </tr>\n  </tbody>\n</table>\n<p>6076 rows × 7 columns</p>\n</div>"
     },
     "execution_count": 9,
     "metadata": {},
     "output_type": "execute_result"
    }
   ],
   "source": [
    "data['Constitution_number'] = Constitution_number\n",
    "data['IPC_number'] = IPC_number\n",
    "data['CrPC_number'] = CrPC_number\n",
    "data"
   ],
   "metadata": {
    "collapsed": false
   }
  },
  {
   "cell_type": "code",
   "execution_count": 14,
   "outputs": [
    {
     "name": "stdout",
     "output_type": "stream",
     "text": [
      "Has at least one reference to either Constitution, either IPC, or CrPC:  3556 ( 58.525345622119815 %)\n"
     ]
    }
   ],
   "source": [
    "include=0\n",
    "for const, ipc, cr in zip(data['Constitution_number'], data['IPC_number'], data['CrPC_number']):\n",
    "    if not (len(const)!=0 or len(ipc)!=0 or len(cr)!=0):\n",
    "        include+=1\n",
    "\n",
    "print(\"Has at least one reference to either Constitution, either IPC, or CrPC: \", include, \"(\",100*include/len(data['text']),\"%)\")"
   ],
   "metadata": {
    "collapsed": false
   }
  },
  {
   "cell_type": "markdown",
   "source": [
    "# Constitution"
   ],
   "metadata": {
    "collapsed": false
   }
  },
  {
   "cell_type": "code",
   "execution_count": 15,
   "outputs": [
    {
     "data": {
      "text/plain": "      article_number                                               text  \\\n0                  0   F. NARIMAN, J. Leave granted. In 2008, the Pu...   \n1                  1   S. THAKUR, J. Leave granted. These appeals ar...   \n2                  2   Markandey Katju, J. Leave granted. Heard lear...   \n3                  3   ALTAMAS KABIR,J. Leave granted. The question ...   \n4                  4   CIVIL APPEAL NO. 598 OF 2007 K. MATHUR, J. Th...   \n...              ...                                                ...   \n6071            6071  civil appellate jurisdiction civil appeal numb...   \n6072            6072  criminal appellate jurisdiction special leave\\...   \n6073            6073  civil appellate jurisdiction civil appeal numb...   \n6074            6074  civil appellate jurisdiction civil appeal numb...   \n6075            6075  criminal appellate jurisdiction criminal appea...   \n\n      label  split             Constitution_number                IPC_number  \\\n0         1  train                      {16 , 14 }                        {}   \n1         0  train  {309 , 142 , 368 , 226 , 141 }                        {}   \n2         1  train                              {}                        {}   \n3         1  train                          {226 }  {406 , 302 , 420 , 326 }   \n4         1  train                          {225 }                        {}   \n...     ...    ...                             ...                       ...   \n6071      1    dev                              {}                        {}   \n6072      0    dev                              {}                        {}   \n6073      0    dev                              {}                        {}   \n6074      1    dev                              {}                        {}   \n6075      0    dev                              {}                        {}   \n\n       CrPC_number  \n0               {}  \n1               {}  \n2           {125 }  \n3     {320 , 482 }  \n4               {}  \n...            ...  \n6071            {}  \n6072            {}  \n6073            {}  \n6074            {}  \n6075            {}  \n\n[6076 rows x 7 columns]",
      "text/html": "<div>\n<style scoped>\n    .dataframe tbody tr th:only-of-type {\n        vertical-align: middle;\n    }\n\n    .dataframe tbody tr th {\n        vertical-align: top;\n    }\n\n    .dataframe thead th {\n        text-align: right;\n    }\n</style>\n<table border=\"1\" class=\"dataframe\">\n  <thead>\n    <tr style=\"text-align: right;\">\n      <th></th>\n      <th>article_number</th>\n      <th>text</th>\n      <th>label</th>\n      <th>split</th>\n      <th>Constitution_number</th>\n      <th>IPC_number</th>\n      <th>CrPC_number</th>\n    </tr>\n  </thead>\n  <tbody>\n    <tr>\n      <th>0</th>\n      <td>0</td>\n      <td>F. NARIMAN, J. Leave granted. In 2008, the Pu...</td>\n      <td>1</td>\n      <td>train</td>\n      <td>{16 , 14 }</td>\n      <td>{}</td>\n      <td>{}</td>\n    </tr>\n    <tr>\n      <th>1</th>\n      <td>1</td>\n      <td>S. THAKUR, J. Leave granted. These appeals ar...</td>\n      <td>0</td>\n      <td>train</td>\n      <td>{309 , 142 , 368 , 226 , 141 }</td>\n      <td>{}</td>\n      <td>{}</td>\n    </tr>\n    <tr>\n      <th>2</th>\n      <td>2</td>\n      <td>Markandey Katju, J. Leave granted. Heard lear...</td>\n      <td>1</td>\n      <td>train</td>\n      <td>{}</td>\n      <td>{}</td>\n      <td>{125 }</td>\n    </tr>\n    <tr>\n      <th>3</th>\n      <td>3</td>\n      <td>ALTAMAS KABIR,J. Leave granted. The question ...</td>\n      <td>1</td>\n      <td>train</td>\n      <td>{226 }</td>\n      <td>{406 , 302 , 420 , 326 }</td>\n      <td>{320 , 482 }</td>\n    </tr>\n    <tr>\n      <th>4</th>\n      <td>4</td>\n      <td>CIVIL APPEAL NO. 598 OF 2007 K. MATHUR, J. Th...</td>\n      <td>1</td>\n      <td>train</td>\n      <td>{225 }</td>\n      <td>{}</td>\n      <td>{}</td>\n    </tr>\n    <tr>\n      <th>...</th>\n      <td>...</td>\n      <td>...</td>\n      <td>...</td>\n      <td>...</td>\n      <td>...</td>\n      <td>...</td>\n      <td>...</td>\n    </tr>\n    <tr>\n      <th>6071</th>\n      <td>6071</td>\n      <td>civil appellate jurisdiction civil appeal numb...</td>\n      <td>1</td>\n      <td>dev</td>\n      <td>{}</td>\n      <td>{}</td>\n      <td>{}</td>\n    </tr>\n    <tr>\n      <th>6072</th>\n      <td>6072</td>\n      <td>criminal appellate jurisdiction special leave\\...</td>\n      <td>0</td>\n      <td>dev</td>\n      <td>{}</td>\n      <td>{}</td>\n      <td>{}</td>\n    </tr>\n    <tr>\n      <th>6073</th>\n      <td>6073</td>\n      <td>civil appellate jurisdiction civil appeal numb...</td>\n      <td>0</td>\n      <td>dev</td>\n      <td>{}</td>\n      <td>{}</td>\n      <td>{}</td>\n    </tr>\n    <tr>\n      <th>6074</th>\n      <td>6074</td>\n      <td>civil appellate jurisdiction civil appeal numb...</td>\n      <td>1</td>\n      <td>dev</td>\n      <td>{}</td>\n      <td>{}</td>\n      <td>{}</td>\n    </tr>\n    <tr>\n      <th>6075</th>\n      <td>6075</td>\n      <td>criminal appellate jurisdiction criminal appea...</td>\n      <td>0</td>\n      <td>dev</td>\n      <td>{}</td>\n      <td>{}</td>\n      <td>{}</td>\n    </tr>\n  </tbody>\n</table>\n<p>6076 rows × 7 columns</p>\n</div>"
     },
     "execution_count": 15,
     "metadata": {},
     "output_type": "execute_result"
    }
   ],
   "source": [
    "data"
   ],
   "metadata": {
    "collapsed": false
   }
  },
  {
   "cell_type": "code",
   "execution_count": 16,
   "outputs": [
    {
     "data": {
      "text/plain": "                                                 Articles number  \\\nnumber                                                             \n1       1. Name and territory of the Union\\n(1) India,...      1   \n10      10. Continuance of the rights of citizenship E...     10   \n100     100. Voting in Houses, power of Houses to act ...    100   \n101     101. Vacation of seats\\n(1) No person shall be...    101   \n102     102. Disqualification s for membership\\n(1) A ...    102   \n...                                                   ...    ...   \n95      95. Power of the Deputy Speaker or other perso...     95   \n96      96. The Speaker or the Deputy Speaker not to p...     96   \n97      97. Salaries and allowances of the Chairman an...     97   \n98      98. Secretariat of Parliament\\n(1) Each House ...     98   \n99      99. Oath or affirmation by members Every membe...     99   \n\n                                           final_Articles  \nnumber                                                     \n1       Name and territory of the Union. India, that i...  \n10      Continuance of the rights of citizenship Every...  \n100     Voting in Houses, power of Houses to act notwi...  \n101     Vacation of seats. No person shall be a member...  \n102     Disqualification s for membership. A person sh...  \n...                                                   ...  \n95      Power of the Deputy Speaker or other person to...  \n96      The Speaker or the Deputy Speaker not to presi...  \n97      Salaries and allowances of the Chairman and De...  \n98      Secretariat of Parliament. Each House of Parli...  \n99      Oath or affirmation by members Every member of...  \n\n[430 rows x 3 columns]",
      "text/html": "<div>\n<style scoped>\n    .dataframe tbody tr th:only-of-type {\n        vertical-align: middle;\n    }\n\n    .dataframe tbody tr th {\n        vertical-align: top;\n    }\n\n    .dataframe thead th {\n        text-align: right;\n    }\n</style>\n<table border=\"1\" class=\"dataframe\">\n  <thead>\n    <tr style=\"text-align: right;\">\n      <th></th>\n      <th>Articles</th>\n      <th>number</th>\n      <th>final_Articles</th>\n    </tr>\n    <tr>\n      <th>number</th>\n      <th></th>\n      <th></th>\n      <th></th>\n    </tr>\n  </thead>\n  <tbody>\n    <tr>\n      <th>1</th>\n      <td>1. Name and territory of the Union\\n(1) India,...</td>\n      <td>1</td>\n      <td>Name and territory of the Union. India, that i...</td>\n    </tr>\n    <tr>\n      <th>10</th>\n      <td>10. Continuance of the rights of citizenship E...</td>\n      <td>10</td>\n      <td>Continuance of the rights of citizenship Every...</td>\n    </tr>\n    <tr>\n      <th>100</th>\n      <td>100. Voting in Houses, power of Houses to act ...</td>\n      <td>100</td>\n      <td>Voting in Houses, power of Houses to act notwi...</td>\n    </tr>\n    <tr>\n      <th>101</th>\n      <td>101. Vacation of seats\\n(1) No person shall be...</td>\n      <td>101</td>\n      <td>Vacation of seats. No person shall be a member...</td>\n    </tr>\n    <tr>\n      <th>102</th>\n      <td>102. Disqualification s for membership\\n(1) A ...</td>\n      <td>102</td>\n      <td>Disqualification s for membership. A person sh...</td>\n    </tr>\n    <tr>\n      <th>...</th>\n      <td>...</td>\n      <td>...</td>\n      <td>...</td>\n    </tr>\n    <tr>\n      <th>95</th>\n      <td>95. Power of the Deputy Speaker or other perso...</td>\n      <td>95</td>\n      <td>Power of the Deputy Speaker or other person to...</td>\n    </tr>\n    <tr>\n      <th>96</th>\n      <td>96. The Speaker or the Deputy Speaker not to p...</td>\n      <td>96</td>\n      <td>The Speaker or the Deputy Speaker not to presi...</td>\n    </tr>\n    <tr>\n      <th>97</th>\n      <td>97. Salaries and allowances of the Chairman an...</td>\n      <td>97</td>\n      <td>Salaries and allowances of the Chairman and De...</td>\n    </tr>\n    <tr>\n      <th>98</th>\n      <td>98. Secretariat of Parliament\\n(1) Each House ...</td>\n      <td>98</td>\n      <td>Secretariat of Parliament. Each House of Parli...</td>\n    </tr>\n    <tr>\n      <th>99</th>\n      <td>99. Oath or affirmation by members Every membe...</td>\n      <td>99</td>\n      <td>Oath or affirmation by members Every member of...</td>\n    </tr>\n  </tbody>\n</table>\n<p>430 rows × 3 columns</p>\n</div>"
     },
     "execution_count": 16,
     "metadata": {},
     "output_type": "execute_result"
    }
   ],
   "source": [
    "constitution"
   ],
   "metadata": {
    "collapsed": false
   }
  },
  {
   "cell_type": "code",
   "execution_count": 57,
   "outputs": [
    {
     "data": {
      "text/plain": "                                                 Articles number  \\\nnumber                                                             \n1       1. Name and territory of the Union\\n(1) India,...      1   \n10      10. Continuance of the rights of citizenship E...     10   \n100     100. Voting in Houses, power of Houses to act ...    100   \n101     101. Vacation of seats\\n(1) No person shall be...    101   \n102     102. Disqualification s for membership\\n(1) A ...    102   \n...                                                   ...    ...   \n95      95. Power of the Deputy Speaker or other perso...     95   \n96      96. The Speaker or the Deputy Speaker not to p...     96   \n97      97. Salaries and allowances of the Chairman an...     97   \n98      98. Secretariat of Parliament\\n(1) Each House ...     98   \n99      99. Oath or affirmation by members Every membe...     99   \n\n                                           final_Articles  \\\nnumber                                                      \n1       Name and territory of the Union. India, that i...   \n10      Continuance of the rights of citizenship Every...   \n100     Voting in Houses, power of Houses to act notwi...   \n101     Vacation of seats. No person shall be a member...   \n102     Disqualification s for membership. A person sh...   \n...                                                   ...   \n95      Power of the Deputy Speaker or other person to...   \n96      The Speaker or the Deputy Speaker not to presi...   \n97      Salaries and allowances of the Chairman and De...   \n98      Secretariat of Parliament. Each House of Parli...   \n99      Oath or affirmation by members Every member of...   \n\n                                           clear_articles  \nnumber                                                     \n1       Name and territory of the Union(1) India, that...  \n10      Continuance of the rights of citizenship Every...  \n100     Voting in Houses, power of Houses to act notwi...  \n101     Vacation of seats(1) No person shall be a memb...  \n102     Disqualification s for membership(1) A person ...  \n...                                                   ...  \n95      Power of the Deputy Speaker or other person to...  \n96      The Speaker or the Deputy Speaker not to presi...  \n97      Salaries and allowances of the Chairman and De...  \n98      Secretariat of Parliament(1) Each House of Par...  \n99      Oath or affirmation by members Every member of...  \n\n[430 rows x 4 columns]",
      "text/html": "<div>\n<style scoped>\n    .dataframe tbody tr th:only-of-type {\n        vertical-align: middle;\n    }\n\n    .dataframe tbody tr th {\n        vertical-align: top;\n    }\n\n    .dataframe thead th {\n        text-align: right;\n    }\n</style>\n<table border=\"1\" class=\"dataframe\">\n  <thead>\n    <tr style=\"text-align: right;\">\n      <th></th>\n      <th>Articles</th>\n      <th>number</th>\n      <th>final_Articles</th>\n      <th>clear_articles</th>\n    </tr>\n    <tr>\n      <th>number</th>\n      <th></th>\n      <th></th>\n      <th></th>\n      <th></th>\n    </tr>\n  </thead>\n  <tbody>\n    <tr>\n      <th>1</th>\n      <td>1. Name and territory of the Union\\n(1) India,...</td>\n      <td>1</td>\n      <td>Name and territory of the Union. India, that i...</td>\n      <td>Name and territory of the Union(1) India, that...</td>\n    </tr>\n    <tr>\n      <th>10</th>\n      <td>10. Continuance of the rights of citizenship E...</td>\n      <td>10</td>\n      <td>Continuance of the rights of citizenship Every...</td>\n      <td>Continuance of the rights of citizenship Every...</td>\n    </tr>\n    <tr>\n      <th>100</th>\n      <td>100. Voting in Houses, power of Houses to act ...</td>\n      <td>100</td>\n      <td>Voting in Houses, power of Houses to act notwi...</td>\n      <td>Voting in Houses, power of Houses to act notwi...</td>\n    </tr>\n    <tr>\n      <th>101</th>\n      <td>101. Vacation of seats\\n(1) No person shall be...</td>\n      <td>101</td>\n      <td>Vacation of seats. No person shall be a member...</td>\n      <td>Vacation of seats(1) No person shall be a memb...</td>\n    </tr>\n    <tr>\n      <th>102</th>\n      <td>102. Disqualification s for membership\\n(1) A ...</td>\n      <td>102</td>\n      <td>Disqualification s for membership. A person sh...</td>\n      <td>Disqualification s for membership(1) A person ...</td>\n    </tr>\n    <tr>\n      <th>...</th>\n      <td>...</td>\n      <td>...</td>\n      <td>...</td>\n      <td>...</td>\n    </tr>\n    <tr>\n      <th>95</th>\n      <td>95. Power of the Deputy Speaker or other perso...</td>\n      <td>95</td>\n      <td>Power of the Deputy Speaker or other person to...</td>\n      <td>Power of the Deputy Speaker or other person to...</td>\n    </tr>\n    <tr>\n      <th>96</th>\n      <td>96. The Speaker or the Deputy Speaker not to p...</td>\n      <td>96</td>\n      <td>The Speaker or the Deputy Speaker not to presi...</td>\n      <td>The Speaker or the Deputy Speaker not to presi...</td>\n    </tr>\n    <tr>\n      <th>97</th>\n      <td>97. Salaries and allowances of the Chairman an...</td>\n      <td>97</td>\n      <td>Salaries and allowances of the Chairman and De...</td>\n      <td>Salaries and allowances of the Chairman and De...</td>\n    </tr>\n    <tr>\n      <th>98</th>\n      <td>98. Secretariat of Parliament\\n(1) Each House ...</td>\n      <td>98</td>\n      <td>Secretariat of Parliament. Each House of Parli...</td>\n      <td>Secretariat of Parliament(1) Each House of Par...</td>\n    </tr>\n    <tr>\n      <th>99</th>\n      <td>99. Oath or affirmation by members Every membe...</td>\n      <td>99</td>\n      <td>Oath or affirmation by members Every member of...</td>\n      <td>Oath or affirmation by members Every member of...</td>\n    </tr>\n  </tbody>\n</table>\n<p>430 rows × 4 columns</p>\n</div>"
     },
     "execution_count": 57,
     "metadata": {},
     "output_type": "execute_result"
    }
   ],
   "source": [
    "# constitution['clear_articles'] = constitution['Articles'].apply(\n",
    "#     lambda x: ''.join(x.split('. ')[1:]).replace('\\n', '')\n",
    "# )\n",
    "# constitution"
   ],
   "metadata": {
    "collapsed": false
   }
  },
  {
   "cell_type": "code",
   "execution_count": 17,
   "outputs": [
    {
     "name": "stderr",
     "output_type": "stream",
     "text": [
      "[nltk_data] Downloading package punkt to\n",
      "[nltk_data]     /Users/amirdjanibekov/nltk_data...\n",
      "[nltk_data]   Package punkt is already up-to-date!\n"
     ]
    }
   ],
   "source": [
    "import nltk\n",
    "nltk.download('punkt')\n",
    "from nltk.tokenize import word_tokenize\n",
    "import numpy as np\n",
    "\n",
    "import string\n",
    "def process_sentence(row):\n",
    "    sent = row['Articles'].translate(str.maketrans('', '', string.punctuation))\n",
    "    tokens = word_tokenize(sent.lower())\n",
    "    row['article_number'] = tokens[0]\n",
    "    row['article_tokenized'] = tokens[1:]\n",
    "    row['tokens_length'] = len(tokens[1:])\n",
    "    return row"
   ],
   "metadata": {
    "collapsed": false
   }
  },
  {
   "cell_type": "code",
   "execution_count": 18,
   "outputs": [],
   "source": [
    "def process_text(row):\n",
    "    initial_text = row['text'].translate(str.maketrans('', '', string.punctuation))\n",
    "    row['processed_text'] = initial_text\n",
    "    return row\n",
    "\n",
    "data = data.apply(process_text, axis=1)"
   ],
   "metadata": {
    "collapsed": false
   }
  },
  {
   "cell_type": "code",
   "execution_count": 19,
   "outputs": [
    {
     "data": {
      "text/plain": "      article_number                                               text  \\\n0                  0   F. NARIMAN, J. Leave granted. In 2008, the Pu...   \n1                  1   S. THAKUR, J. Leave granted. These appeals ar...   \n2                  2   Markandey Katju, J. Leave granted. Heard lear...   \n3                  3   ALTAMAS KABIR,J. Leave granted. The question ...   \n4                  4   CIVIL APPEAL NO. 598 OF 2007 K. MATHUR, J. Th...   \n...              ...                                                ...   \n6071            6071  civil appellate jurisdiction civil appeal numb...   \n6072            6072  criminal appellate jurisdiction special leave\\...   \n6073            6073  civil appellate jurisdiction civil appeal numb...   \n6074            6074  civil appellate jurisdiction civil appeal numb...   \n6075            6075  criminal appellate jurisdiction criminal appea...   \n\n      label  split             Constitution_number                IPC_number  \\\n0         1  train                      {16 , 14 }                        {}   \n1         0  train  {309 , 142 , 368 , 226 , 141 }                        {}   \n2         1  train                              {}                        {}   \n3         1  train                          {226 }  {406 , 302 , 420 , 326 }   \n4         1  train                          {225 }                        {}   \n...     ...    ...                             ...                       ...   \n6071      1    dev                              {}                        {}   \n6072      0    dev                              {}                        {}   \n6073      0    dev                              {}                        {}   \n6074      1    dev                              {}                        {}   \n6075      0    dev                              {}                        {}   \n\n       CrPC_number                                     processed_text  \n0               {}   F NARIMAN J Leave granted In 2008 the Punjab ...  \n1               {}   S THAKUR J Leave granted These appeals are di...  \n2           {125 }   Markandey Katju J Leave granted Heard learned...  \n3     {320 , 482 }   ALTAMAS KABIRJ Leave granted The question whe...  \n4               {}   CIVIL APPEAL NO 598 OF 2007 K MATHUR J This a...  \n...            ...                                                ...  \n6071            {}  civil appellate jurisdiction civil appeal numb...  \n6072            {}  criminal appellate jurisdiction special leave\\...  \n6073            {}  civil appellate jurisdiction civil appeal numb...  \n6074            {}  civil appellate jurisdiction civil appeal numb...  \n6075            {}  criminal appellate jurisdiction criminal appea...  \n\n[6076 rows x 8 columns]",
      "text/html": "<div>\n<style scoped>\n    .dataframe tbody tr th:only-of-type {\n        vertical-align: middle;\n    }\n\n    .dataframe tbody tr th {\n        vertical-align: top;\n    }\n\n    .dataframe thead th {\n        text-align: right;\n    }\n</style>\n<table border=\"1\" class=\"dataframe\">\n  <thead>\n    <tr style=\"text-align: right;\">\n      <th></th>\n      <th>article_number</th>\n      <th>text</th>\n      <th>label</th>\n      <th>split</th>\n      <th>Constitution_number</th>\n      <th>IPC_number</th>\n      <th>CrPC_number</th>\n      <th>processed_text</th>\n    </tr>\n  </thead>\n  <tbody>\n    <tr>\n      <th>0</th>\n      <td>0</td>\n      <td>F. NARIMAN, J. Leave granted. In 2008, the Pu...</td>\n      <td>1</td>\n      <td>train</td>\n      <td>{16 , 14 }</td>\n      <td>{}</td>\n      <td>{}</td>\n      <td>F NARIMAN J Leave granted In 2008 the Punjab ...</td>\n    </tr>\n    <tr>\n      <th>1</th>\n      <td>1</td>\n      <td>S. THAKUR, J. Leave granted. These appeals ar...</td>\n      <td>0</td>\n      <td>train</td>\n      <td>{309 , 142 , 368 , 226 , 141 }</td>\n      <td>{}</td>\n      <td>{}</td>\n      <td>S THAKUR J Leave granted These appeals are di...</td>\n    </tr>\n    <tr>\n      <th>2</th>\n      <td>2</td>\n      <td>Markandey Katju, J. Leave granted. Heard lear...</td>\n      <td>1</td>\n      <td>train</td>\n      <td>{}</td>\n      <td>{}</td>\n      <td>{125 }</td>\n      <td>Markandey Katju J Leave granted Heard learned...</td>\n    </tr>\n    <tr>\n      <th>3</th>\n      <td>3</td>\n      <td>ALTAMAS KABIR,J. Leave granted. The question ...</td>\n      <td>1</td>\n      <td>train</td>\n      <td>{226 }</td>\n      <td>{406 , 302 , 420 , 326 }</td>\n      <td>{320 , 482 }</td>\n      <td>ALTAMAS KABIRJ Leave granted The question whe...</td>\n    </tr>\n    <tr>\n      <th>4</th>\n      <td>4</td>\n      <td>CIVIL APPEAL NO. 598 OF 2007 K. MATHUR, J. Th...</td>\n      <td>1</td>\n      <td>train</td>\n      <td>{225 }</td>\n      <td>{}</td>\n      <td>{}</td>\n      <td>CIVIL APPEAL NO 598 OF 2007 K MATHUR J This a...</td>\n    </tr>\n    <tr>\n      <th>...</th>\n      <td>...</td>\n      <td>...</td>\n      <td>...</td>\n      <td>...</td>\n      <td>...</td>\n      <td>...</td>\n      <td>...</td>\n      <td>...</td>\n    </tr>\n    <tr>\n      <th>6071</th>\n      <td>6071</td>\n      <td>civil appellate jurisdiction civil appeal numb...</td>\n      <td>1</td>\n      <td>dev</td>\n      <td>{}</td>\n      <td>{}</td>\n      <td>{}</td>\n      <td>civil appellate jurisdiction civil appeal numb...</td>\n    </tr>\n    <tr>\n      <th>6072</th>\n      <td>6072</td>\n      <td>criminal appellate jurisdiction special leave\\...</td>\n      <td>0</td>\n      <td>dev</td>\n      <td>{}</td>\n      <td>{}</td>\n      <td>{}</td>\n      <td>criminal appellate jurisdiction special leave\\...</td>\n    </tr>\n    <tr>\n      <th>6073</th>\n      <td>6073</td>\n      <td>civil appellate jurisdiction civil appeal numb...</td>\n      <td>0</td>\n      <td>dev</td>\n      <td>{}</td>\n      <td>{}</td>\n      <td>{}</td>\n      <td>civil appellate jurisdiction civil appeal numb...</td>\n    </tr>\n    <tr>\n      <th>6074</th>\n      <td>6074</td>\n      <td>civil appellate jurisdiction civil appeal numb...</td>\n      <td>1</td>\n      <td>dev</td>\n      <td>{}</td>\n      <td>{}</td>\n      <td>{}</td>\n      <td>civil appellate jurisdiction civil appeal numb...</td>\n    </tr>\n    <tr>\n      <th>6075</th>\n      <td>6075</td>\n      <td>criminal appellate jurisdiction criminal appea...</td>\n      <td>0</td>\n      <td>dev</td>\n      <td>{}</td>\n      <td>{}</td>\n      <td>{}</td>\n      <td>criminal appellate jurisdiction criminal appea...</td>\n    </tr>\n  </tbody>\n</table>\n<p>6076 rows × 8 columns</p>\n</div>"
     },
     "execution_count": 19,
     "metadata": {},
     "output_type": "execute_result"
    }
   ],
   "source": [
    "data"
   ],
   "metadata": {
    "collapsed": false
   }
  },
  {
   "cell_type": "code",
   "execution_count": 20,
   "outputs": [],
   "source": [
    "def add_constitution(row):\n",
    "    row['constitution_article'] = ''\n",
    "\n",
    "    for ent in row['Constitution_number']:\n",
    "        normal_ent = ent.replace(' ', '')  # we replace an empty space with zero space since in the previous step where article number is parsed the int type conversion was not applied. this means that all numbers are in str format, and we continue work with this format\n",
    "        text_constitution = constitution[constitution['number'] == normal_ent]['final_Articles'].values\n",
    "        row['constitution_article'] = row['constitution_article'] + '~~' + ''.join(text_constitution).translate(str.maketrans('', '', string.punctuation))\n",
    "    return row\n",
    "\n",
    "data = data.apply(add_constitution, axis=1)"
   ],
   "metadata": {
    "collapsed": false
   }
  },
  {
   "cell_type": "code",
   "execution_count": 21,
   "outputs": [
    {
     "data": {
      "text/plain": "                                         processed_text  \\\n0      F NARIMAN J Leave granted In 2008 the Punjab ...   \n1      S THAKUR J Leave granted These appeals are di...   \n2      Markandey Katju J Leave granted Heard learned...   \n3      ALTAMAS KABIRJ Leave granted The question whe...   \n4      CIVIL APPEAL NO 598 OF 2007 K MATHUR J This a...   \n...                                                 ...   \n6071  civil appellate jurisdiction civil appeal numb...   \n6072  criminal appellate jurisdiction special leave\\...   \n6073  civil appellate jurisdiction civil appeal numb...   \n6074  civil appellate jurisdiction civil appeal numb...   \n6075  criminal appellate jurisdiction criminal appea...   \n\n                                   constitution_article  label  split  \n0     ~~Equality of opportunity in matters of public...      1  train  \n1     ~~Recruitment and conditions of service of per...      0  train  \n2                                                            1  train  \n3     ~~Power of High Courts to issue certain writs ...      1  train  \n4     ~~Jurisdiction of existing High Courts Subject...      1  train  \n...                                                 ...    ...    ...  \n6071                                                         1    dev  \n6072                                                         0    dev  \n6073                                                         0    dev  \n6074                                                         1    dev  \n6075                                                         0    dev  \n\n[6076 rows x 4 columns]",
      "text/html": "<div>\n<style scoped>\n    .dataframe tbody tr th:only-of-type {\n        vertical-align: middle;\n    }\n\n    .dataframe tbody tr th {\n        vertical-align: top;\n    }\n\n    .dataframe thead th {\n        text-align: right;\n    }\n</style>\n<table border=\"1\" class=\"dataframe\">\n  <thead>\n    <tr style=\"text-align: right;\">\n      <th></th>\n      <th>processed_text</th>\n      <th>constitution_article</th>\n      <th>label</th>\n      <th>split</th>\n    </tr>\n  </thead>\n  <tbody>\n    <tr>\n      <th>0</th>\n      <td>F NARIMAN J Leave granted In 2008 the Punjab ...</td>\n      <td>~~Equality of opportunity in matters of public...</td>\n      <td>1</td>\n      <td>train</td>\n    </tr>\n    <tr>\n      <th>1</th>\n      <td>S THAKUR J Leave granted These appeals are di...</td>\n      <td>~~Recruitment and conditions of service of per...</td>\n      <td>0</td>\n      <td>train</td>\n    </tr>\n    <tr>\n      <th>2</th>\n      <td>Markandey Katju J Leave granted Heard learned...</td>\n      <td></td>\n      <td>1</td>\n      <td>train</td>\n    </tr>\n    <tr>\n      <th>3</th>\n      <td>ALTAMAS KABIRJ Leave granted The question whe...</td>\n      <td>~~Power of High Courts to issue certain writs ...</td>\n      <td>1</td>\n      <td>train</td>\n    </tr>\n    <tr>\n      <th>4</th>\n      <td>CIVIL APPEAL NO 598 OF 2007 K MATHUR J This a...</td>\n      <td>~~Jurisdiction of existing High Courts Subject...</td>\n      <td>1</td>\n      <td>train</td>\n    </tr>\n    <tr>\n      <th>...</th>\n      <td>...</td>\n      <td>...</td>\n      <td>...</td>\n      <td>...</td>\n    </tr>\n    <tr>\n      <th>6071</th>\n      <td>civil appellate jurisdiction civil appeal numb...</td>\n      <td></td>\n      <td>1</td>\n      <td>dev</td>\n    </tr>\n    <tr>\n      <th>6072</th>\n      <td>criminal appellate jurisdiction special leave\\...</td>\n      <td></td>\n      <td>0</td>\n      <td>dev</td>\n    </tr>\n    <tr>\n      <th>6073</th>\n      <td>civil appellate jurisdiction civil appeal numb...</td>\n      <td></td>\n      <td>0</td>\n      <td>dev</td>\n    </tr>\n    <tr>\n      <th>6074</th>\n      <td>civil appellate jurisdiction civil appeal numb...</td>\n      <td></td>\n      <td>1</td>\n      <td>dev</td>\n    </tr>\n    <tr>\n      <th>6075</th>\n      <td>criminal appellate jurisdiction criminal appea...</td>\n      <td></td>\n      <td>0</td>\n      <td>dev</td>\n    </tr>\n  </tbody>\n</table>\n<p>6076 rows × 4 columns</p>\n</div>"
     },
     "execution_count": 21,
     "metadata": {},
     "output_type": "execute_result"
    }
   ],
   "source": [
    "data[['processed_text', 'constitution_article', 'label', 'split']]"
   ],
   "metadata": {
    "collapsed": false
   }
  },
  {
   "cell_type": "markdown",
   "source": [
    "# Code of Criminal"
   ],
   "metadata": {
    "collapsed": false
   }
  },
  {
   "cell_type": "code",
   "execution_count": 22,
   "outputs": [
    {
     "data": {
      "text/plain": "0                 {}\n1                 {}\n2             {125 }\n3       {320 , 482 }\n4                 {}\n            ...     \n6071              {}\n6072              {}\n6073              {}\n6074              {}\n6075              {}\nName: CrPC_number, Length: 6076, dtype: object"
     },
     "execution_count": 22,
     "metadata": {},
     "output_type": "execute_result"
    }
   ],
   "source": [
    "data['CrPC_number']"
   ],
   "metadata": {
    "collapsed": false
   }
  },
  {
   "cell_type": "code",
   "execution_count": 25,
   "outputs": [
    {
     "data": {
      "text/plain": "    article                                          full_text\n0         1  Short title extent and commencement. This Act ...\n1         2  Definitions. In this Code, unless the context ...\n2         3  Construction of references. In this Code,- In ...\n3         4  Trial of offences under the Indian Penal Code ...\n4         5  Saving. Nothing contained in this Code shall, ...\n..      ...                                                ...\n497     480  Practising pleader not to sit as Magistrate in...\n498     481  Public servant concerned in sale not to purcha...\n499     482  Saving of inherent powers of High Court. Nothi...\n500     483  Duty of High Court to exercise continuous supe...\n501     484  Repeal and savings. The Code of Criminal Proce...\n\n[502 rows x 2 columns]",
      "text/html": "<div>\n<style scoped>\n    .dataframe tbody tr th:only-of-type {\n        vertical-align: middle;\n    }\n\n    .dataframe tbody tr th {\n        vertical-align: top;\n    }\n\n    .dataframe thead th {\n        text-align: right;\n    }\n</style>\n<table border=\"1\" class=\"dataframe\">\n  <thead>\n    <tr style=\"text-align: right;\">\n      <th></th>\n      <th>article</th>\n      <th>full_text</th>\n    </tr>\n  </thead>\n  <tbody>\n    <tr>\n      <th>0</th>\n      <td>1</td>\n      <td>Short title extent and commencement. This Act ...</td>\n    </tr>\n    <tr>\n      <th>1</th>\n      <td>2</td>\n      <td>Definitions. In this Code, unless the context ...</td>\n    </tr>\n    <tr>\n      <th>2</th>\n      <td>3</td>\n      <td>Construction of references. In this Code,- In ...</td>\n    </tr>\n    <tr>\n      <th>3</th>\n      <td>4</td>\n      <td>Trial of offences under the Indian Penal Code ...</td>\n    </tr>\n    <tr>\n      <th>4</th>\n      <td>5</td>\n      <td>Saving. Nothing contained in this Code shall, ...</td>\n    </tr>\n    <tr>\n      <th>...</th>\n      <td>...</td>\n      <td>...</td>\n    </tr>\n    <tr>\n      <th>497</th>\n      <td>480</td>\n      <td>Practising pleader not to sit as Magistrate in...</td>\n    </tr>\n    <tr>\n      <th>498</th>\n      <td>481</td>\n      <td>Public servant concerned in sale not to purcha...</td>\n    </tr>\n    <tr>\n      <th>499</th>\n      <td>482</td>\n      <td>Saving of inherent powers of High Court. Nothi...</td>\n    </tr>\n    <tr>\n      <th>500</th>\n      <td>483</td>\n      <td>Duty of High Court to exercise continuous supe...</td>\n    </tr>\n    <tr>\n      <th>501</th>\n      <td>484</td>\n      <td>Repeal and savings. The Code of Criminal Proce...</td>\n    </tr>\n  </tbody>\n</table>\n<p>502 rows × 2 columns</p>\n</div>"
     },
     "execution_count": 25,
     "metadata": {},
     "output_type": "execute_result"
    }
   ],
   "source": [
    "crpc"
   ],
   "metadata": {
    "collapsed": false
   }
  },
  {
   "cell_type": "code",
   "execution_count": 26,
   "outputs": [],
   "source": [
    "def add_crpc(row):\n",
    "    row['crpc_article'] = ''\n",
    "    for ent in row['CrPC_number']:\n",
    "        normal_ent = ent.replace(' ', '')\n",
    "        text_constitution = crpc[crpc['article'] == normal_ent]['full_text'].values\n",
    "        row['crpc_article'] = row['crpc_article'] + '~~' + ' '.join(text_constitution).translate(str.maketrans('', '', string.punctuation)).replace('\\t', '')\n",
    "    return row\n",
    "\n",
    "data = data.apply(add_crpc, axis=1)"
   ],
   "metadata": {
    "collapsed": false
   }
  },
  {
   "cell_type": "code",
   "execution_count": 27,
   "outputs": [
    {
     "data": {
      "text/plain": "                                         processed_text  \\\n0      F NARIMAN J Leave granted In 2008 the Punjab ...   \n1      S THAKUR J Leave granted These appeals are di...   \n2      Markandey Katju J Leave granted Heard learned...   \n3      ALTAMAS KABIRJ Leave granted The question whe...   \n4      CIVIL APPEAL NO 598 OF 2007 K MATHUR J This a...   \n...                                                 ...   \n6071  civil appellate jurisdiction civil appeal numb...   \n6072  criminal appellate jurisdiction special leave\\...   \n6073  civil appellate jurisdiction civil appeal numb...   \n6074  civil appellate jurisdiction civil appeal numb...   \n6075  criminal appellate jurisdiction criminal appea...   \n\n                                   constitution_article  \\\n0     ~~Equality of opportunity in matters of public...   \n1     ~~Recruitment and conditions of service of per...   \n2                                                         \n3     ~~Power of High Courts to issue certain writs ...   \n4     ~~Jurisdiction of existing High Courts Subject...   \n...                                                 ...   \n6071                                                      \n6072                                                      \n6073                                                      \n6074                                                      \n6075                                                      \n\n                                           crpc_article  label  split  \n0                                                            1  train  \n1                                                            0  train  \n2     ~~Order for maintenance of wives children and ...      1  train  \n3     ~~Compounding of offences The offences punisha...      1  train  \n4                                                            1  train  \n...                                                 ...    ...    ...  \n6071                                                         1    dev  \n6072                                                         0    dev  \n6073                                                         0    dev  \n6074                                                         1    dev  \n6075                                                         0    dev  \n\n[6076 rows x 5 columns]",
      "text/html": "<div>\n<style scoped>\n    .dataframe tbody tr th:only-of-type {\n        vertical-align: middle;\n    }\n\n    .dataframe tbody tr th {\n        vertical-align: top;\n    }\n\n    .dataframe thead th {\n        text-align: right;\n    }\n</style>\n<table border=\"1\" class=\"dataframe\">\n  <thead>\n    <tr style=\"text-align: right;\">\n      <th></th>\n      <th>processed_text</th>\n      <th>constitution_article</th>\n      <th>crpc_article</th>\n      <th>label</th>\n      <th>split</th>\n    </tr>\n  </thead>\n  <tbody>\n    <tr>\n      <th>0</th>\n      <td>F NARIMAN J Leave granted In 2008 the Punjab ...</td>\n      <td>~~Equality of opportunity in matters of public...</td>\n      <td></td>\n      <td>1</td>\n      <td>train</td>\n    </tr>\n    <tr>\n      <th>1</th>\n      <td>S THAKUR J Leave granted These appeals are di...</td>\n      <td>~~Recruitment and conditions of service of per...</td>\n      <td></td>\n      <td>0</td>\n      <td>train</td>\n    </tr>\n    <tr>\n      <th>2</th>\n      <td>Markandey Katju J Leave granted Heard learned...</td>\n      <td></td>\n      <td>~~Order for maintenance of wives children and ...</td>\n      <td>1</td>\n      <td>train</td>\n    </tr>\n    <tr>\n      <th>3</th>\n      <td>ALTAMAS KABIRJ Leave granted The question whe...</td>\n      <td>~~Power of High Courts to issue certain writs ...</td>\n      <td>~~Compounding of offences The offences punisha...</td>\n      <td>1</td>\n      <td>train</td>\n    </tr>\n    <tr>\n      <th>4</th>\n      <td>CIVIL APPEAL NO 598 OF 2007 K MATHUR J This a...</td>\n      <td>~~Jurisdiction of existing High Courts Subject...</td>\n      <td></td>\n      <td>1</td>\n      <td>train</td>\n    </tr>\n    <tr>\n      <th>...</th>\n      <td>...</td>\n      <td>...</td>\n      <td>...</td>\n      <td>...</td>\n      <td>...</td>\n    </tr>\n    <tr>\n      <th>6071</th>\n      <td>civil appellate jurisdiction civil appeal numb...</td>\n      <td></td>\n      <td></td>\n      <td>1</td>\n      <td>dev</td>\n    </tr>\n    <tr>\n      <th>6072</th>\n      <td>criminal appellate jurisdiction special leave\\...</td>\n      <td></td>\n      <td></td>\n      <td>0</td>\n      <td>dev</td>\n    </tr>\n    <tr>\n      <th>6073</th>\n      <td>civil appellate jurisdiction civil appeal numb...</td>\n      <td></td>\n      <td></td>\n      <td>0</td>\n      <td>dev</td>\n    </tr>\n    <tr>\n      <th>6074</th>\n      <td>civil appellate jurisdiction civil appeal numb...</td>\n      <td></td>\n      <td></td>\n      <td>1</td>\n      <td>dev</td>\n    </tr>\n    <tr>\n      <th>6075</th>\n      <td>criminal appellate jurisdiction criminal appea...</td>\n      <td></td>\n      <td></td>\n      <td>0</td>\n      <td>dev</td>\n    </tr>\n  </tbody>\n</table>\n<p>6076 rows × 5 columns</p>\n</div>"
     },
     "execution_count": 27,
     "metadata": {},
     "output_type": "execute_result"
    }
   ],
   "source": [
    "data[['processed_text', 'constitution_article', 'crpc_article', 'label', 'split']]"
   ],
   "metadata": {
    "collapsed": false
   }
  },
  {
   "cell_type": "markdown",
   "source": [
    "# IPC"
   ],
   "metadata": {
    "collapsed": false
   }
  },
  {
   "cell_type": "code",
   "execution_count": 28,
   "outputs": [
    {
     "data": {
      "text/plain": "    section_number                                       section_text\n0                1  This Act shall be called the Indian Penal Code...\n1                2  Every person shall be liable to punishment und...\n2                3  Any person liable, by any Indian law, to be tr...\n3                4  The provisions of this Code apply also to any ...\n4                5  Nothing in this Act shall affect the provision...\n..             ...                                                ...\n554            507  Whoever commits the offence of criminal intimi...\n555            508  Whoever voluntarily causes or attempts to caus...\n556            509  Whoever, intending to insult the modesty of an...\n557            510  Whoever, in a state of intoxication, appears i...\n558            511  Whoever attempts to commit an offence punishab...\n\n[559 rows x 2 columns]",
      "text/html": "<div>\n<style scoped>\n    .dataframe tbody tr th:only-of-type {\n        vertical-align: middle;\n    }\n\n    .dataframe tbody tr th {\n        vertical-align: top;\n    }\n\n    .dataframe thead th {\n        text-align: right;\n    }\n</style>\n<table border=\"1\" class=\"dataframe\">\n  <thead>\n    <tr style=\"text-align: right;\">\n      <th></th>\n      <th>section_number</th>\n      <th>section_text</th>\n    </tr>\n  </thead>\n  <tbody>\n    <tr>\n      <th>0</th>\n      <td>1</td>\n      <td>This Act shall be called the Indian Penal Code...</td>\n    </tr>\n    <tr>\n      <th>1</th>\n      <td>2</td>\n      <td>Every person shall be liable to punishment und...</td>\n    </tr>\n    <tr>\n      <th>2</th>\n      <td>3</td>\n      <td>Any person liable, by any Indian law, to be tr...</td>\n    </tr>\n    <tr>\n      <th>3</th>\n      <td>4</td>\n      <td>The provisions of this Code apply also to any ...</td>\n    </tr>\n    <tr>\n      <th>4</th>\n      <td>5</td>\n      <td>Nothing in this Act shall affect the provision...</td>\n    </tr>\n    <tr>\n      <th>...</th>\n      <td>...</td>\n      <td>...</td>\n    </tr>\n    <tr>\n      <th>554</th>\n      <td>507</td>\n      <td>Whoever commits the offence of criminal intimi...</td>\n    </tr>\n    <tr>\n      <th>555</th>\n      <td>508</td>\n      <td>Whoever voluntarily causes or attempts to caus...</td>\n    </tr>\n    <tr>\n      <th>556</th>\n      <td>509</td>\n      <td>Whoever, intending to insult the modesty of an...</td>\n    </tr>\n    <tr>\n      <th>557</th>\n      <td>510</td>\n      <td>Whoever, in a state of intoxication, appears i...</td>\n    </tr>\n    <tr>\n      <th>558</th>\n      <td>511</td>\n      <td>Whoever attempts to commit an offence punishab...</td>\n    </tr>\n  </tbody>\n</table>\n<p>559 rows × 2 columns</p>\n</div>"
     },
     "execution_count": 28,
     "metadata": {},
     "output_type": "execute_result"
    }
   ],
   "source": [
    "IPC"
   ],
   "metadata": {
    "collapsed": false
   }
  },
  {
   "cell_type": "code",
   "execution_count": 30,
   "outputs": [
    {
     "data": {
      "text/plain": "      article_number                                               text  \\\n0                  0   F. NARIMAN, J. Leave granted. In 2008, the Pu...   \n1                  1   S. THAKUR, J. Leave granted. These appeals ar...   \n2                  2   Markandey Katju, J. Leave granted. Heard lear...   \n3                  3   ALTAMAS KABIR,J. Leave granted. The question ...   \n4                  4   CIVIL APPEAL NO. 598 OF 2007 K. MATHUR, J. Th...   \n...              ...                                                ...   \n6071            6071  civil appellate jurisdiction civil appeal numb...   \n6072            6072  criminal appellate jurisdiction special leave\\...   \n6073            6073  civil appellate jurisdiction civil appeal numb...   \n6074            6074  civil appellate jurisdiction civil appeal numb...   \n6075            6075  criminal appellate jurisdiction criminal appea...   \n\n      label  split             Constitution_number                IPC_number  \\\n0         1  train                      {16 , 14 }                        {}   \n1         0  train  {309 , 142 , 368 , 226 , 141 }                        {}   \n2         1  train                              {}                        {}   \n3         1  train                          {226 }  {406 , 302 , 420 , 326 }   \n4         1  train                          {225 }                        {}   \n...     ...    ...                             ...                       ...   \n6071      1    dev                              {}                        {}   \n6072      0    dev                              {}                        {}   \n6073      0    dev                              {}                        {}   \n6074      1    dev                              {}                        {}   \n6075      0    dev                              {}                        {}   \n\n       CrPC_number                                     processed_text  \\\n0               {}   F NARIMAN J Leave granted In 2008 the Punjab ...   \n1               {}   S THAKUR J Leave granted These appeals are di...   \n2           {125 }   Markandey Katju J Leave granted Heard learned...   \n3     {320 , 482 }   ALTAMAS KABIRJ Leave granted The question whe...   \n4               {}   CIVIL APPEAL NO 598 OF 2007 K MATHUR J This a...   \n...            ...                                                ...   \n6071            {}  civil appellate jurisdiction civil appeal numb...   \n6072            {}  criminal appellate jurisdiction special leave\\...   \n6073            {}  civil appellate jurisdiction civil appeal numb...   \n6074            {}  civil appellate jurisdiction civil appeal numb...   \n6075            {}  criminal appellate jurisdiction criminal appea...   \n\n                                   constitution_article  \\\n0     ~~Equality of opportunity in matters of public...   \n1     ~~Recruitment and conditions of service of per...   \n2                                                         \n3     ~~Power of High Courts to issue certain writs ...   \n4     ~~Jurisdiction of existing High Courts Subject...   \n...                                                 ...   \n6071                                                      \n6072                                                      \n6073                                                      \n6074                                                      \n6075                                                      \n\n                                           crpc_article  \n0                                                        \n1                                                        \n2     ~~Order for maintenance of wives children and ...  \n3     ~~Compounding of offences The offences punisha...  \n4                                                        \n...                                                 ...  \n6071                                                     \n6072                                                     \n6073                                                     \n6074                                                     \n6075                                                     \n\n[6076 rows x 10 columns]",
      "text/html": "<div>\n<style scoped>\n    .dataframe tbody tr th:only-of-type {\n        vertical-align: middle;\n    }\n\n    .dataframe tbody tr th {\n        vertical-align: top;\n    }\n\n    .dataframe thead th {\n        text-align: right;\n    }\n</style>\n<table border=\"1\" class=\"dataframe\">\n  <thead>\n    <tr style=\"text-align: right;\">\n      <th></th>\n      <th>article_number</th>\n      <th>text</th>\n      <th>label</th>\n      <th>split</th>\n      <th>Constitution_number</th>\n      <th>IPC_number</th>\n      <th>CrPC_number</th>\n      <th>processed_text</th>\n      <th>constitution_article</th>\n      <th>crpc_article</th>\n    </tr>\n  </thead>\n  <tbody>\n    <tr>\n      <th>0</th>\n      <td>0</td>\n      <td>F. NARIMAN, J. Leave granted. In 2008, the Pu...</td>\n      <td>1</td>\n      <td>train</td>\n      <td>{16 , 14 }</td>\n      <td>{}</td>\n      <td>{}</td>\n      <td>F NARIMAN J Leave granted In 2008 the Punjab ...</td>\n      <td>~~Equality of opportunity in matters of public...</td>\n      <td></td>\n    </tr>\n    <tr>\n      <th>1</th>\n      <td>1</td>\n      <td>S. THAKUR, J. Leave granted. These appeals ar...</td>\n      <td>0</td>\n      <td>train</td>\n      <td>{309 , 142 , 368 , 226 , 141 }</td>\n      <td>{}</td>\n      <td>{}</td>\n      <td>S THAKUR J Leave granted These appeals are di...</td>\n      <td>~~Recruitment and conditions of service of per...</td>\n      <td></td>\n    </tr>\n    <tr>\n      <th>2</th>\n      <td>2</td>\n      <td>Markandey Katju, J. Leave granted. Heard lear...</td>\n      <td>1</td>\n      <td>train</td>\n      <td>{}</td>\n      <td>{}</td>\n      <td>{125 }</td>\n      <td>Markandey Katju J Leave granted Heard learned...</td>\n      <td></td>\n      <td>~~Order for maintenance of wives children and ...</td>\n    </tr>\n    <tr>\n      <th>3</th>\n      <td>3</td>\n      <td>ALTAMAS KABIR,J. Leave granted. The question ...</td>\n      <td>1</td>\n      <td>train</td>\n      <td>{226 }</td>\n      <td>{406 , 302 , 420 , 326 }</td>\n      <td>{320 , 482 }</td>\n      <td>ALTAMAS KABIRJ Leave granted The question whe...</td>\n      <td>~~Power of High Courts to issue certain writs ...</td>\n      <td>~~Compounding of offences The offences punisha...</td>\n    </tr>\n    <tr>\n      <th>4</th>\n      <td>4</td>\n      <td>CIVIL APPEAL NO. 598 OF 2007 K. MATHUR, J. Th...</td>\n      <td>1</td>\n      <td>train</td>\n      <td>{225 }</td>\n      <td>{}</td>\n      <td>{}</td>\n      <td>CIVIL APPEAL NO 598 OF 2007 K MATHUR J This a...</td>\n      <td>~~Jurisdiction of existing High Courts Subject...</td>\n      <td></td>\n    </tr>\n    <tr>\n      <th>...</th>\n      <td>...</td>\n      <td>...</td>\n      <td>...</td>\n      <td>...</td>\n      <td>...</td>\n      <td>...</td>\n      <td>...</td>\n      <td>...</td>\n      <td>...</td>\n      <td>...</td>\n    </tr>\n    <tr>\n      <th>6071</th>\n      <td>6071</td>\n      <td>civil appellate jurisdiction civil appeal numb...</td>\n      <td>1</td>\n      <td>dev</td>\n      <td>{}</td>\n      <td>{}</td>\n      <td>{}</td>\n      <td>civil appellate jurisdiction civil appeal numb...</td>\n      <td></td>\n      <td></td>\n    </tr>\n    <tr>\n      <th>6072</th>\n      <td>6072</td>\n      <td>criminal appellate jurisdiction special leave\\...</td>\n      <td>0</td>\n      <td>dev</td>\n      <td>{}</td>\n      <td>{}</td>\n      <td>{}</td>\n      <td>criminal appellate jurisdiction special leave\\...</td>\n      <td></td>\n      <td></td>\n    </tr>\n    <tr>\n      <th>6073</th>\n      <td>6073</td>\n      <td>civil appellate jurisdiction civil appeal numb...</td>\n      <td>0</td>\n      <td>dev</td>\n      <td>{}</td>\n      <td>{}</td>\n      <td>{}</td>\n      <td>civil appellate jurisdiction civil appeal numb...</td>\n      <td></td>\n      <td></td>\n    </tr>\n    <tr>\n      <th>6074</th>\n      <td>6074</td>\n      <td>civil appellate jurisdiction civil appeal numb...</td>\n      <td>1</td>\n      <td>dev</td>\n      <td>{}</td>\n      <td>{}</td>\n      <td>{}</td>\n      <td>civil appellate jurisdiction civil appeal numb...</td>\n      <td></td>\n      <td></td>\n    </tr>\n    <tr>\n      <th>6075</th>\n      <td>6075</td>\n      <td>criminal appellate jurisdiction criminal appea...</td>\n      <td>0</td>\n      <td>dev</td>\n      <td>{}</td>\n      <td>{}</td>\n      <td>{}</td>\n      <td>criminal appellate jurisdiction criminal appea...</td>\n      <td></td>\n      <td></td>\n    </tr>\n  </tbody>\n</table>\n<p>6076 rows × 10 columns</p>\n</div>"
     },
     "execution_count": 30,
     "metadata": {},
     "output_type": "execute_result"
    }
   ],
   "source": [
    "data"
   ],
   "metadata": {
    "collapsed": false
   }
  },
  {
   "cell_type": "code",
   "execution_count": 31,
   "outputs": [],
   "source": [
    "def add_crpc(row):\n",
    "    row['ipc_article'] = ''\n",
    "    for ent in row['IPC_number']:\n",
    "        normal_ent = ent.replace(' ', '')\n",
    "        text_constitution = IPC[IPC['section_number'] == normal_ent]['section_text'].values\n",
    "        row['ipc_article'] = row['ipc_article'] + '~~' + ' '.join(text_constitution).translate(str.maketrans('', '', string.punctuation)).replace('\\t', '')\n",
    "    return row\n",
    "\n",
    "data = data.apply(add_crpc, axis=1)"
   ],
   "metadata": {
    "collapsed": false
   }
  },
  {
   "cell_type": "code",
   "execution_count": 32,
   "outputs": [
    {
     "data": {
      "text/plain": "                                         processed_text  \\\n0      F NARIMAN J Leave granted In 2008 the Punjab ...   \n1      S THAKUR J Leave granted These appeals are di...   \n2      Markandey Katju J Leave granted Heard learned...   \n3      ALTAMAS KABIRJ Leave granted The question whe...   \n4      CIVIL APPEAL NO 598 OF 2007 K MATHUR J This a...   \n...                                                 ...   \n6071  civil appellate jurisdiction civil appeal numb...   \n6072  criminal appellate jurisdiction special leave\\...   \n6073  civil appellate jurisdiction civil appeal numb...   \n6074  civil appellate jurisdiction civil appeal numb...   \n6075  criminal appellate jurisdiction criminal appea...   \n\n                                   constitution_article  \\\n0     ~~Equality of opportunity in matters of public...   \n1     ~~Recruitment and conditions of service of per...   \n2                                                         \n3     ~~Power of High Courts to issue certain writs ...   \n4     ~~Jurisdiction of existing High Courts Subject...   \n...                                                 ...   \n6071                                                      \n6072                                                      \n6073                                                      \n6074                                                      \n6075                                                      \n\n                                           crpc_article  \\\n0                                                         \n1                                                         \n2     ~~Order for maintenance of wives children and ...   \n3     ~~Compounding of offences The offences punisha...   \n4                                                         \n...                                                 ...   \n6071                                                      \n6072                                                      \n6073                                                      \n6074                                                      \n6075                                                      \n\n                                            ipc_article  label  split  \n0                                                            1  train  \n1                                                            0  train  \n2                                                            1  train  \n3     ~~Whoever commits criminal breach of trust sha...      1  train  \n4                                                            1  train  \n...                                                 ...    ...    ...  \n6071                                                         1    dev  \n6072                                                         0    dev  \n6073                                                         0    dev  \n6074                                                         1    dev  \n6075                                                         0    dev  \n\n[6076 rows x 6 columns]",
      "text/html": "<div>\n<style scoped>\n    .dataframe tbody tr th:only-of-type {\n        vertical-align: middle;\n    }\n\n    .dataframe tbody tr th {\n        vertical-align: top;\n    }\n\n    .dataframe thead th {\n        text-align: right;\n    }\n</style>\n<table border=\"1\" class=\"dataframe\">\n  <thead>\n    <tr style=\"text-align: right;\">\n      <th></th>\n      <th>processed_text</th>\n      <th>constitution_article</th>\n      <th>crpc_article</th>\n      <th>ipc_article</th>\n      <th>label</th>\n      <th>split</th>\n    </tr>\n  </thead>\n  <tbody>\n    <tr>\n      <th>0</th>\n      <td>F NARIMAN J Leave granted In 2008 the Punjab ...</td>\n      <td>~~Equality of opportunity in matters of public...</td>\n      <td></td>\n      <td></td>\n      <td>1</td>\n      <td>train</td>\n    </tr>\n    <tr>\n      <th>1</th>\n      <td>S THAKUR J Leave granted These appeals are di...</td>\n      <td>~~Recruitment and conditions of service of per...</td>\n      <td></td>\n      <td></td>\n      <td>0</td>\n      <td>train</td>\n    </tr>\n    <tr>\n      <th>2</th>\n      <td>Markandey Katju J Leave granted Heard learned...</td>\n      <td></td>\n      <td>~~Order for maintenance of wives children and ...</td>\n      <td></td>\n      <td>1</td>\n      <td>train</td>\n    </tr>\n    <tr>\n      <th>3</th>\n      <td>ALTAMAS KABIRJ Leave granted The question whe...</td>\n      <td>~~Power of High Courts to issue certain writs ...</td>\n      <td>~~Compounding of offences The offences punisha...</td>\n      <td>~~Whoever commits criminal breach of trust sha...</td>\n      <td>1</td>\n      <td>train</td>\n    </tr>\n    <tr>\n      <th>4</th>\n      <td>CIVIL APPEAL NO 598 OF 2007 K MATHUR J This a...</td>\n      <td>~~Jurisdiction of existing High Courts Subject...</td>\n      <td></td>\n      <td></td>\n      <td>1</td>\n      <td>train</td>\n    </tr>\n    <tr>\n      <th>...</th>\n      <td>...</td>\n      <td>...</td>\n      <td>...</td>\n      <td>...</td>\n      <td>...</td>\n      <td>...</td>\n    </tr>\n    <tr>\n      <th>6071</th>\n      <td>civil appellate jurisdiction civil appeal numb...</td>\n      <td></td>\n      <td></td>\n      <td></td>\n      <td>1</td>\n      <td>dev</td>\n    </tr>\n    <tr>\n      <th>6072</th>\n      <td>criminal appellate jurisdiction special leave\\...</td>\n      <td></td>\n      <td></td>\n      <td></td>\n      <td>0</td>\n      <td>dev</td>\n    </tr>\n    <tr>\n      <th>6073</th>\n      <td>civil appellate jurisdiction civil appeal numb...</td>\n      <td></td>\n      <td></td>\n      <td></td>\n      <td>0</td>\n      <td>dev</td>\n    </tr>\n    <tr>\n      <th>6074</th>\n      <td>civil appellate jurisdiction civil appeal numb...</td>\n      <td></td>\n      <td></td>\n      <td></td>\n      <td>1</td>\n      <td>dev</td>\n    </tr>\n    <tr>\n      <th>6075</th>\n      <td>criminal appellate jurisdiction criminal appea...</td>\n      <td></td>\n      <td></td>\n      <td></td>\n      <td>0</td>\n      <td>dev</td>\n    </tr>\n  </tbody>\n</table>\n<p>6076 rows × 6 columns</p>\n</div>"
     },
     "execution_count": 32,
     "metadata": {},
     "output_type": "execute_result"
    }
   ],
   "source": [
    "data[['processed_text', 'constitution_article', 'crpc_article', 'ipc_article', 'label', 'split']]"
   ],
   "metadata": {
    "collapsed": false
   }
  },
  {
   "cell_type": "markdown",
   "source": [
    "# Done preprocessing"
   ],
   "metadata": {
    "collapsed": false
   }
  },
  {
   "cell_type": "code",
   "execution_count": 33,
   "outputs": [
    {
     "data": {
      "text/plain": "      article_number                                     processed_text  \\\n0                  0   F NARIMAN J Leave granted In 2008 the Punjab ...   \n1                  1   S THAKUR J Leave granted These appeals are di...   \n2                  2   Markandey Katju J Leave granted Heard learned...   \n3                  3   ALTAMAS KABIRJ Leave granted The question whe...   \n4                  4   CIVIL APPEAL NO 598 OF 2007 K MATHUR J This a...   \n...              ...                                                ...   \n6071            6071  civil appellate jurisdiction civil appeal numb...   \n6072            6072  criminal appellate jurisdiction special leave\\...   \n6073            6073  civil appellate jurisdiction civil appeal numb...   \n6074            6074  civil appellate jurisdiction civil appeal numb...   \n6075            6075  criminal appellate jurisdiction criminal appea...   \n\n                                   constitution_article  \\\n0     ~~Equality of opportunity in matters of public...   \n1     ~~Recruitment and conditions of service of per...   \n2                                                         \n3     ~~Power of High Courts to issue certain writs ...   \n4     ~~Jurisdiction of existing High Courts Subject...   \n...                                                 ...   \n6071                                                      \n6072                                                      \n6073                                                      \n6074                                                      \n6075                                                      \n\n                                           crpc_article  \\\n0                                                         \n1                                                         \n2     ~~Order for maintenance of wives children and ...   \n3     ~~Compounding of offences The offences punisha...   \n4                                                         \n...                                                 ...   \n6071                                                      \n6072                                                      \n6073                                                      \n6074                                                      \n6075                                                      \n\n                                            ipc_article  label  split  \n0                                                            1  train  \n1                                                            0  train  \n2                                                            1  train  \n3     ~~Whoever commits criminal breach of trust sha...      1  train  \n4                                                            1  train  \n...                                                 ...    ...    ...  \n6071                                                         1    dev  \n6072                                                         0    dev  \n6073                                                         0    dev  \n6074                                                         1    dev  \n6075                                                         0    dev  \n\n[6076 rows x 7 columns]",
      "text/html": "<div>\n<style scoped>\n    .dataframe tbody tr th:only-of-type {\n        vertical-align: middle;\n    }\n\n    .dataframe tbody tr th {\n        vertical-align: top;\n    }\n\n    .dataframe thead th {\n        text-align: right;\n    }\n</style>\n<table border=\"1\" class=\"dataframe\">\n  <thead>\n    <tr style=\"text-align: right;\">\n      <th></th>\n      <th>article_number</th>\n      <th>processed_text</th>\n      <th>constitution_article</th>\n      <th>crpc_article</th>\n      <th>ipc_article</th>\n      <th>label</th>\n      <th>split</th>\n    </tr>\n  </thead>\n  <tbody>\n    <tr>\n      <th>0</th>\n      <td>0</td>\n      <td>F NARIMAN J Leave granted In 2008 the Punjab ...</td>\n      <td>~~Equality of opportunity in matters of public...</td>\n      <td></td>\n      <td></td>\n      <td>1</td>\n      <td>train</td>\n    </tr>\n    <tr>\n      <th>1</th>\n      <td>1</td>\n      <td>S THAKUR J Leave granted These appeals are di...</td>\n      <td>~~Recruitment and conditions of service of per...</td>\n      <td></td>\n      <td></td>\n      <td>0</td>\n      <td>train</td>\n    </tr>\n    <tr>\n      <th>2</th>\n      <td>2</td>\n      <td>Markandey Katju J Leave granted Heard learned...</td>\n      <td></td>\n      <td>~~Order for maintenance of wives children and ...</td>\n      <td></td>\n      <td>1</td>\n      <td>train</td>\n    </tr>\n    <tr>\n      <th>3</th>\n      <td>3</td>\n      <td>ALTAMAS KABIRJ Leave granted The question whe...</td>\n      <td>~~Power of High Courts to issue certain writs ...</td>\n      <td>~~Compounding of offences The offences punisha...</td>\n      <td>~~Whoever commits criminal breach of trust sha...</td>\n      <td>1</td>\n      <td>train</td>\n    </tr>\n    <tr>\n      <th>4</th>\n      <td>4</td>\n      <td>CIVIL APPEAL NO 598 OF 2007 K MATHUR J This a...</td>\n      <td>~~Jurisdiction of existing High Courts Subject...</td>\n      <td></td>\n      <td></td>\n      <td>1</td>\n      <td>train</td>\n    </tr>\n    <tr>\n      <th>...</th>\n      <td>...</td>\n      <td>...</td>\n      <td>...</td>\n      <td>...</td>\n      <td>...</td>\n      <td>...</td>\n      <td>...</td>\n    </tr>\n    <tr>\n      <th>6071</th>\n      <td>6071</td>\n      <td>civil appellate jurisdiction civil appeal numb...</td>\n      <td></td>\n      <td></td>\n      <td></td>\n      <td>1</td>\n      <td>dev</td>\n    </tr>\n    <tr>\n      <th>6072</th>\n      <td>6072</td>\n      <td>criminal appellate jurisdiction special leave\\...</td>\n      <td></td>\n      <td></td>\n      <td></td>\n      <td>0</td>\n      <td>dev</td>\n    </tr>\n    <tr>\n      <th>6073</th>\n      <td>6073</td>\n      <td>civil appellate jurisdiction civil appeal numb...</td>\n      <td></td>\n      <td></td>\n      <td></td>\n      <td>0</td>\n      <td>dev</td>\n    </tr>\n    <tr>\n      <th>6074</th>\n      <td>6074</td>\n      <td>civil appellate jurisdiction civil appeal numb...</td>\n      <td></td>\n      <td></td>\n      <td></td>\n      <td>1</td>\n      <td>dev</td>\n    </tr>\n    <tr>\n      <th>6075</th>\n      <td>6075</td>\n      <td>criminal appellate jurisdiction criminal appea...</td>\n      <td></td>\n      <td></td>\n      <td></td>\n      <td>0</td>\n      <td>dev</td>\n    </tr>\n  </tbody>\n</table>\n<p>6076 rows × 7 columns</p>\n</div>"
     },
     "execution_count": 33,
     "metadata": {},
     "output_type": "execute_result"
    }
   ],
   "source": [
    "processed_data = data[['article_number', 'processed_text', 'constitution_article', 'crpc_article', 'ipc_article', 'label', 'split']]\n",
    "processed_data"
   ],
   "metadata": {
    "collapsed": false
   }
  },
  {
   "cell_type": "code",
   "execution_count": 34,
   "outputs": [
    {
     "data": {
      "text/plain": "0       1\n4047    1\n4056    1\n4055    1\n4054    1\n       ..\n2023    1\n2022    1\n2021    1\n2020    1\n6075    1\nName: article_number, Length: 6076, dtype: int64"
     },
     "execution_count": 34,
     "metadata": {},
     "output_type": "execute_result"
    }
   ],
   "source": [
    "processed_data['article_number'].value_counts()"
   ],
   "metadata": {
    "collapsed": false
   }
  },
  {
   "cell_type": "code",
   "execution_count": 35,
   "outputs": [],
   "source": [
    "processed_data.to_csv('processed_data_prime.csv', index=False)"
   ],
   "metadata": {
    "collapsed": false
   }
  },
  {
   "cell_type": "code",
   "execution_count": null,
   "outputs": [],
   "source": [],
   "metadata": {
    "collapsed": false
   }
  }
 ],
 "metadata": {
  "kernelspec": {
   "display_name": "Python 3",
   "language": "python",
   "name": "python3"
  },
  "language_info": {
   "codemirror_mode": {
    "name": "ipython",
    "version": 2
   },
   "file_extension": ".py",
   "mimetype": "text/x-python",
   "name": "python",
   "nbconvert_exporter": "python",
   "pygments_lexer": "ipython2",
   "version": "2.7.6"
  }
 },
 "nbformat": 4,
 "nbformat_minor": 0
}
